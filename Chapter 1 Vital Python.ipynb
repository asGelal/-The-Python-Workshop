{
 "cells": [
  {
   "cell_type": "code",
   "execution_count": 1,
   "metadata": {},
   "outputs": [
    {
     "data": {
      "text/plain": [
       "(-0.5+0.5j)"
      ]
     },
     "execution_count": 1,
     "metadata": {},
     "output_type": "execute_result"
    }
   ],
   "source": [
    "(2 + 3j) / (1 - 5j)"
   ]
  },
  {
   "cell_type": "code",
   "execution_count": 4,
   "metadata": {},
   "outputs": [
    {
     "name": "stdout",
     "output_type": "stream",
     "text": [
      "2\n"
     ]
    }
   ],
   "source": [
    "x = 2\n",
    "print( x )\n",
    "\n"
   ]
  },
  {
   "cell_type": "code",
   "execution_count": 10,
   "metadata": {},
   "outputs": [
    {
     "data": {
      "text/plain": [
       "9.0"
      ]
     },
     "execution_count": 10,
     "metadata": {},
     "output_type": "execute_result"
    }
   ],
   "source": [
    "x = 14 \n",
    "((x+1)/5) **2\n"
   ]
  },
  {
   "cell_type": "code",
   "execution_count": 11,
   "metadata": {},
   "outputs": [
    {
     "name": "stdout",
     "output_type": "stream",
     "text": [
      "['False', 'None', 'True', 'and', 'as', 'assert', 'async', 'await', 'break', 'class', 'continue', 'def', 'del', 'elif', 'else', 'except', 'finally', 'for', 'from', 'global', 'if', 'import', 'in', 'is', 'lambda', 'nonlocal', 'not', 'or', 'pass', 'raise', 'return', 'try', 'while', 'with', 'yield']\n"
     ]
    }
   ],
   "source": [
    "import keyword\n",
    "print(keyword.kwlist)"
   ]
  },
  {
   "cell_type": "code",
   "execution_count": 13,
   "metadata": {},
   "outputs": [
    {
     "data": {
      "text/plain": [
       "5.385164807134504"
      ]
     },
     "execution_count": 13,
     "metadata": {},
     "output_type": "execute_result"
    }
   ],
   "source": [
    "\"\"\" Here we are calculating \n",
    "Pythagorean distance between three Points x y and z\"\"\"\n",
    "x, y, z = 2, 3, 4\n",
    "sqrdSum = x**2 + y**2 + z**2\n",
    "PyD = sqrdSum ** 0.5\n",
    "PyD\n"
   ]
  },
  {
   "cell_type": "code",
   "execution_count": 14,
   "metadata": {},
   "outputs": [
    {
     "name": "stdout",
     "output_type": "stream",
     "text": [
      "hola\n"
     ]
    }
   ],
   "source": [
    "spanish_greeting = 'hola'\n",
    "spanish_greeting  \n",
    "arabic_greeting = 'Ahlan wa salan'\n",
    "print(spanish_greeting)\n"
   ]
  },
  {
   "cell_type": "code",
   "execution_count": 20,
   "metadata": {},
   "outputs": [
    {
     "name": "stdout",
     "output_type": "stream",
     "text": [
      "holaSenor\n"
     ]
    }
   ],
   "source": [
    "spanish_greeting = 'hola'\n",
    "print(spanish_greeting + ' Senor')"
   ]
  },
  {
   "cell_type": "code",
   "execution_count": 26,
   "metadata": {},
   "outputs": [
    {
     "name": "stdout",
     "output_type": "stream",
     "text": [
      "Hello\tHello\tHello\tHello\tHello\t\n"
     ]
    }
   ],
   "source": [
    "greeting = 'Hello'\n",
    "print ((greeting + '\\t') * 5 )\n"
   ]
  },
  {
   "cell_type": "code",
   "execution_count": 31,
   "metadata": {},
   "outputs": [
    {
     "data": {
      "text/plain": [
       "'RAME'"
      ]
     },
     "execution_count": 31,
     "metadata": {},
     "output_type": "execute_result"
    }
   ],
   "source": [
    "name = 'Rame'\n",
    "name.capitalize()\n",
    "name.upper()\n",
    "\n",
    "\n"
   ]
  },
  {
   "cell_type": "code",
   "execution_count": 37,
   "metadata": {},
   "outputs": [
    {
     "name": "stdout",
     "output_type": "stream",
     "text": [
      "What is your Name?\n",
      "Shyam\n",
      "Hello  Shyam  How are Your ?\n",
      "Hello Shyam How are You Doing?\n"
     ]
    }
   ],
   "source": [
    "print('What is your Name?')\n",
    "name = input()\n",
    "print('Hello ',name,' How are Your ?')\n",
    "print('Hello {} How are You Doing?'.format(name))"
   ]
  },
  {
   "cell_type": "code",
   "execution_count": 38,
   "metadata": {},
   "outputs": [
    {
     "name": "stdout",
     "output_type": "stream",
     "text": [
      "Please Rate your Day from 1 to 10\n",
      "1\n",
      "So you rate your day as 1\n"
     ]
    }
   ],
   "source": [
    "print ( 'Please Rate your Day from 1 to 10')\n",
    "rating = input()\n",
    "print('So you rate your day as {}'.format(int(rating)))\n"
   ]
  },
  {
   "cell_type": "code",
   "execution_count": null,
   "metadata": {},
   "outputs": [],
   "source": []
  },
  {
   "cell_type": "code",
   "execution_count": 46,
   "metadata": {},
   "outputs": [
    {
     "data": {
      "text/plain": [
       "True"
      ]
     },
     "execution_count": 46,
     "metadata": {},
     "output_type": "execute_result"
    }
   ],
   "source": [
    "age = 20\n",
    "age < 13\n",
    "age >= 20 and age <= 21\n",
    "age != 21\n",
    "age == 19\n",
    "6 == 6.0\n",
    "    "
   ]
  },
  {
   "cell_type": "code",
   "execution_count": 1,
   "metadata": {},
   "outputs": [
    {
     "name": "stdout",
     "output_type": "stream",
     "text": [
      "At least you can vote.\n",
      "Poker will have to wait...\n"
     ]
    }
   ],
   "source": [
    "age = 20\n",
    "if age >= 18 and age < 21:\n",
    "    print('At least you can vote.')\n",
    "    print('Poker will have to wait...')\n",
    "    "
   ]
  },
  {
   "cell_type": "code",
   "execution_count": 4,
   "metadata": {},
   "outputs": [
    {
     "name": "stdout",
     "output_type": "stream",
     "text": [
      "You can vote..\n",
      "You can play poker\n"
     ]
    }
   ],
   "source": [
    "age = 25\n",
    "if age >= 18:\n",
    "    print('You can vote..')\n",
    "    if age >= 21:\n",
    "        print('You can play poker')"
   ]
  },
  {
   "cell_type": "code",
   "execution_count": 5,
   "metadata": {},
   "outputs": [
    {
     "name": "stdout",
     "output_type": "stream",
     "text": [
      "Welcome to our voting Program.\n"
     ]
    }
   ],
   "source": [
    "age = 20\n",
    "if age < 18:\n",
    "    print('You aren\\'t old enough to vote.')\n",
    "else:\n",
    "    print('Welcome to our voting Program.')\n",
    "    "
   ]
  },
  {
   "cell_type": "code",
   "execution_count": 7,
   "metadata": {},
   "outputs": [
    {
     "name": "stdout",
     "output_type": "stream",
     "text": [
      "Enter your age...\n",
      "12\n",
      "Go fearlessly forward\n"
     ]
    }
   ],
   "source": [
    "print('Enter your age...')\n",
    "age = int(input())\n",
    "if age <= 10:\n",
    "    print('Listen learn and have fun')\n",
    "elif age <= 19:\n",
    "    print('Go fearlessly forward')\n",
    "elif age <= 29:\n",
    "    print('Go for what you want')\n",
    "elif age <= 59:\n",
    "    print('Stay physically Fit and Healthy')\n",
    "else:\n",
    "    print('Each day is Magical')\n",
    "    "
   ]
  },
  {
   "cell_type": "code",
   "execution_count": 11,
   "metadata": {},
   "outputs": [
    {
     "name": "stdout",
     "output_type": "stream",
     "text": [
      "The LCM of 12 and 18 is 36\n"
     ]
    }
   ],
   "source": [
    "num1 = 12\n",
    "num2 = 18\n",
    "i=18\n",
    "while i >= 1:\n",
    "    if (i%num1 == 0 and  i%num2 == 0) :\n",
    "        print('The LCM of {} and {} is {}'.format(num1,num2,i))\n",
    "        break\n",
    "    else:\n",
    "        i+=1\n",
    "        \n",
    "        "
   ]
  },
  {
   "cell_type": "code",
   "execution_count": 5,
   "metadata": {},
   "outputs": [
    {
     "name": "stdout",
     "output_type": "stream",
     "text": [
      "Enter a number to see if it's a perfect square'\n",
      "22\n",
      "  22 is not a perfect square\n"
     ]
    }
   ],
   "source": [
    "\"\"\"Calculating the Perfect Squares\"\"\"\n",
    "print(\"Enter a number to see if it\\'s a perfect square'\")\n",
    "number = input()\n",
    "number = abs(int(number))\n",
    "i = -1\n",
    "square = False\n",
    "while i <= number**(0.5):\n",
    "    i+=1\n",
    "    if i*i == number:\n",
    "        square = True\n",
    "        break\n",
    "if square:\n",
    "    print(\"The square root of \",number, \"is\", i ,\".\")\n",
    "else:\n",
    "    print(\" \",number,\"is not a perfect square\")\n",
    "        "
   ]
  },
  {
   "cell_type": "code",
   "execution_count": 8,
   "metadata": {},
   "outputs": [
    {
     "name": "stdout",
     "output_type": "stream",
     "text": [
      "A one bedroom in the BayArea is listed at $599,000\n",
      "Enter yout first offer on the house.\n",
      "600000\n",
      "Enter your best offer on the house\n",
      "670000\n",
      "How much more do you want to offer each time?\n",
      "25000\n",
      "We're sorry, your offer of  600000 has not been accepted.\n",
      "We're sorry, your offer of  625000 has not been accepted.\n",
      "Your offer of  650000 has been accepted!\n"
     ]
    }
   ],
   "source": [
    "print('A one bedroom in the BayArea is listed at $599,000')\n",
    "print('Enter yout first offer on the house.')\n",
    "offer = abs(int(input()))\n",
    "print('Enter your best offer on the house')\n",
    "best = abs(int(input()))\n",
    "print('How much more do you want to offer each time?')\n",
    "increment = abs(int(input()))\n",
    "offer_accepted = False\n",
    "while offer <= best:\n",
    "    if offer >=650000:\n",
    "        offer_accepted= True\n",
    "        print('Your offer of ', offer, 'has been accepted!')\n",
    "        break\n",
    "    print('We\\'re sorry, your offer of ',offer,'has not been accepted.')\n",
    "    offer+=increment\n",
    "\n",
    "            "
   ]
  },
  {
   "cell_type": "code",
   "execution_count": 1,
   "metadata": {},
   "outputs": [
    {
     "name": "stdout",
     "output_type": "stream",
     "text": [
      "P\n",
      "o\n",
      "r\n",
      "t\n",
      "l\n",
      "a\n",
      "n\n",
      "d\n"
     ]
    }
   ],
   "source": [
    "'''Using for loop to print the string in aadtion to a range of numbers'''\n",
    "\n",
    "for i in 'Portland':\n",
    "    print(i)\n",
    "    "
   ]
  },
  {
   "cell_type": "code",
   "execution_count": 5,
   "metadata": {},
   "outputs": [
    {
     "name": "stdout",
     "output_type": "stream",
     "text": [
      "What is your name?\n",
      "Ashim\n",
      "Fascinating Ashim is my name too.\n",
      "Have you thought about black holes today?\n",
      "Yes\n",
      "I am so glad you said Yes . I was thinking the same thing\n",
      "We're kindred spirits Ashim . Talk Later\n"
     ]
    }
   ],
   "source": [
    "print('What is your name?')\n",
    "name = input()\n",
    "print('Fascinating',name,'is my name too.')\n",
    "print('Have you thought about black holes today?')\n",
    "yes_no = input()\n",
    "print(\"I am so glad you said\",yes_no,\". I was thinking the same thing\")\n",
    "print(\"We're kindred spirits\",name,\". Talk Later\")\n",
    "\n",
    "\n"
   ]
  },
  {
   "cell_type": "code",
   "execution_count": 11,
   "metadata": {},
   "outputs": [
    {
     "name": "stdout",
     "output_type": "stream",
     "text": [
      "How intellegent are you? 0 is very dumb. And 10 is a genius\n",
      "1\n",
      "I don't believe you.\n",
      "How bad of a day are you having? 0 is the worst, and 10 is the best.\n",
      "2\n",
      "If I was human, I would give you a hug\n"
     ]
    }
   ],
   "source": [
    "print('How intellegent are you? 0 is very dumb. And 10 is a genius')\n",
    "smarts = input()\n",
    "smarts = int(smarts)\n",
    "\n",
    "if smarts <= 3:\n",
    "    print('I don\\'t believe you.')\n",
    "    print('How bad of a day are you having? 0 is the worst, and 10 is the best.')\n",
    "    day = input()\n",
    "    day = int(day)\n",
    "    if day <= 5:\n",
    "        print('If I was human, I would give you a hug')\n",
    "    else:\n",
    "        print(\"Maybe I should try your approach\")\n",
    "elif smarts <= 6:\n",
    "    print('I think you\\'re actually smarter.')\n",
    "    print('How much time do you spend online? 0 is none and 10 is 24 hours a day.')\n",
    "    hours = input()\n",
    "    hours = int(hours)\n",
    "    if hours <=4 :\n",
    "        print('That\\'s the problem')\n",
    "    else:\n",
    "        print('And I thought it was only me')\n",
    "        \n",
    "elif smarts <= 8:\n",
    "    print('Are you human by chance? Wait .Don\\'t answer that.')\n",
    "    print('How human are you? 0 is not at all and 10 is humal all the way')\n",
    "    human = input()\n",
    "    human = int(hunam)\n",
    "    if human <=5:\n",
    "        print('I knew it.')\n",
    "    else:\n",
    "        print('I think this courship is over.')\n",
    "else:\n",
    "    print('I see ...How may operating systems do you run?')\n",
    "    os = input()\n",
    "    os =int(os)\n",
    "    if os <= 2:\n",
    "        print('Good thing you\\'re takning this course.')\n",
    "    else:\n",
    "        print('What is this? A competition')\n",
    "\n",
    "    \n",
    "    "
   ]
  },
  {
   "cell_type": "code",
   "execution_count": null,
   "metadata": {},
   "outputs": [],
   "source": []
  }
 ],
 "metadata": {
  "kernelspec": {
   "display_name": "Python 3",
   "language": "python",
   "name": "python3"
  },
  "language_info": {
   "codemirror_mode": {
    "name": "ipython",
    "version": 3
   },
   "file_extension": ".py",
   "mimetype": "text/x-python",
   "name": "python",
   "nbconvert_exporter": "python",
   "pygments_lexer": "ipython3",
   "version": "3.7.4"
  }
 },
 "nbformat": 4,
 "nbformat_minor": 2
}
