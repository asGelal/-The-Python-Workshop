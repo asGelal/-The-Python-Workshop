{
 "cells": [
  {
   "cell_type": "code",
   "execution_count": 1,
   "metadata": {},
   "outputs": [
    {
     "name": "stdout",
     "output_type": "stream",
     "text": [
      "[365, 'days', True]\n"
     ]
    }
   ],
   "source": [
    "mixed  = [365, 'days',True]\n",
    "print(mixed)\n"
   ]
  },
  {
   "cell_type": "code",
   "execution_count": 68,
   "metadata": {},
   "outputs": [
    {
     "name": "stdout",
     "output_type": "stream",
     "text": [
      "[1, 2, 3]\n",
      "[4, 5, 6]\n"
     ]
    }
   ],
   "source": [
    "m = [[1,2,3],[4,5,6]]\n",
    "#print (m[0][1])\n",
    "#print (m[1][2])\n",
    "for row in m:\n",
    "   # for col in row:\n",
    "    print(row)\n",
    "#'''for i in range(len(m)):\n",
    "#    for j in range(len(m[i])):\n",
    "  #      print(m[i][j]\n",
    "    #this gives the number of rows\n",
    "#len(m[0])#this gives the number of column in the given row\n",
    "#'''\n"
   ]
  },
  {
   "cell_type": "code",
   "execution_count": 56,
   "metadata": {},
   "outputs": [
    {
     "name": "stdout",
     "output_type": "stream",
     "text": [
      "Name : John Mckee\n",
      "Age : 38\n",
      "Deparment : Sales\n",
      "--------------------------------------------------------\n",
      "Name : Lisa Crawford\n",
      "Age : 29\n",
      "Deparment : Marketing\n",
      "--------------------------------------------------------\n",
      "Name : Sujan Patel\n",
      "Age : 33\n",
      "Deparment : HR\n",
      "--------------------------------------------------------\n"
     ]
    }
   ],
   "source": [
    "\"\"\"Using a nested list to store Employee Data method A\"\"\"\n",
    "employee = [['Name','Age','Deparment'],['John Mckee',38,'Sales'],['Lisa Crawford',29,'Marketing'],['Sujan Patel',33,'HR']]\n",
    "for i in range(1,len(employee)):\n",
    "    #for j in employee:\n",
    "        print(employee[0][0],':',employee[i][0])\n",
    "        print(employee[0][1],':',employee[i][1])\n",
    "        print(employee[0][2],':',employee[i][2])\n",
    "        print('--------------'*4)\n",
    "    "
   ]
  },
  {
   "cell_type": "code",
   "execution_count": 63,
   "metadata": {},
   "outputs": [
    {
     "name": "stdout",
     "output_type": "stream",
     "text": [
      "['Name', 'Age', 'Deparment']\n",
      "Name: Name\n",
      "Age: Age\n",
      "Department Deparment\n",
      "_.__.__.__.__.__.__.__.__.__.__.__.__.__.__.__.__.__.__.__._\n",
      "['John Mckee', 38, 'Sales']\n",
      "Name: John Mckee\n",
      "Age: 38\n",
      "Department Sales\n",
      "_.__.__.__.__.__.__.__.__.__.__.__.__.__.__.__.__.__.__.__._\n",
      "['Lisa Crawford', 29, 'Marketing']\n",
      "Name: Lisa Crawford\n",
      "Age: 29\n",
      "Department Marketing\n",
      "_.__.__.__.__.__.__.__.__.__.__.__.__.__.__.__.__.__.__.__._\n",
      "['Sujan Patel', 33, 'HR']\n",
      "Name: Sujan Patel\n",
      "Age: 33\n",
      "Department HR\n",
      "_.__.__.__.__.__.__.__.__.__.__.__.__.__.__.__.__.__.__.__._\n"
     ]
    }
   ],
   "source": [
    "\"\"\"Using a nested list to store Employee Data method B\"\"\"\n",
    "employees = [['Name','Age','Deparment'],['John Mckee',38,'Sales'],['Lisa Crawford',29,'Marketing'],['Sujan Patel',33,'HR']]\n",
    "for employee in employees:\n",
    "    print(employee)\n",
    "    print(\"Name:\",employee[0])\n",
    "    print(\"Age:\",employee[1])\n",
    "    print(\"Department\",employee[2])\n",
    "    print('_._'*20)\n",
    "    "
   ]
  },
  {
   "cell_type": "code",
   "execution_count": 71,
   "metadata": {},
   "outputs": [
    {
     "name": "stdout",
     "output_type": "stream",
     "text": [
      "1\n",
      "2\n",
      "3\n",
      "4\n",
      "5\n",
      "6\n"
     ]
    }
   ],
   "source": [
    "m = [[1,2,3],[4,5,6]]\n",
    "for e in m:\n",
    "    for f in e:\n",
    "        print (f)\n",
    "        "
   ]
  },
  {
   "cell_type": "code",
   "execution_count": 74,
   "metadata": {},
   "outputs": [
    {
     "name": "stdout",
     "output_type": "stream",
     "text": [
      "[[11, 13, 15], [17, 19, 21], [23, 25, 27]]\n"
     ]
    }
   ],
   "source": [
    "X = [[1,2,3],[4,5,6,],[7,8,9]]\n",
    "Y = [[10,11,12],[13,14,15],[16,17,18]]\n",
    "\n",
    "#Initializing a result placeholder\n",
    "result = [[0,0,0,],[0,0,0],[0,0,0]]\n",
    "\n",
    "#Iterate through rows\n",
    "for i in range(len(X)):\n",
    "    for j in range(len(X[i])):\n",
    "        result[i][j] = X[i][j]+Y[i][j]\n",
    "\n",
    "print (result)"
   ]
  },
  {
   "cell_type": "code",
   "execution_count": 85,
   "metadata": {},
   "outputs": [
    {
     "name": "stdout",
     "output_type": "stream",
     "text": [
      "[11, 14, 17, 20]\n",
      "[29, 38, 47, 56]\n",
      "[33, 42, 51, 60]\n"
     ]
    }
   ],
   "source": [
    "M = [[1,2],[4,5],[3,6]] #matrix of dimension 3x2\n",
    "N = [[1,2,3,4],[5,6,7,8]]#matrix of dimension 2x4\n",
    "result = [[0,0,0,0],[0,0,0,0],[0,0,0,0]]\n",
    "#iterating by row of M\n",
    "for i in range(len(M)): \n",
    "    #iterating by column by N\n",
    "    for j in range(len(N[0])):\n",
    "        #iterating  by rows of N\n",
    "        for k in range(len(N)):\n",
    "            result[i][j] += M[i][k] * N[k][j]\n",
    "\n",
    "for r in result:\n",
    "    print(r)\n",
    "        \n"
   ]
  },
  {
   "cell_type": "code",
   "execution_count": 86,
   "metadata": {},
   "outputs": [
    {
     "name": "stdout",
     "output_type": "stream",
     "text": [
      "3\n"
     ]
    }
   ],
   "source": [
    "\"\"\"UPraticing List Methods\"\"\"\n",
    "shopping = ['bread','milk','eggs']\n",
    "print(len(shopping))"
   ]
  },
  {
   "cell_type": "code",
   "execution_count": 88,
   "metadata": {},
   "outputs": [
    {
     "name": "stdout",
     "output_type": "stream",
     "text": [
      "[1, 2, 3, 4, 5, 6]\n"
     ]
    }
   ],
   "source": [
    "list_1 = [1,2,3]\n",
    "list_2 = [4,5,6]\n",
    "final_list = list_1 + list_2\n",
    "print(final_list)"
   ]
  },
  {
   "cell_type": "code",
   "execution_count": 90,
   "metadata": {},
   "outputs": [
    {
     "name": "stdout",
     "output_type": "stream",
     "text": [
      "['bread', 'milk', 'eggs', 'apple']\n"
     ]
    }
   ],
   "source": [
    "shopping = [\"bread\",\"milk\",\"eggs\"]\n",
    "shopping.append('apple')\n",
    "print (shopping)"
   ]
  },
  {
   "cell_type": "code",
   "execution_count": 2,
   "metadata": {},
   "outputs": [
    {
     "name": "stdout",
     "output_type": "stream",
     "text": [
      "['bread', 'milk', 'eggs', 'apple']\n",
      "['bread', 'milk', 'ham', 'eggs', 'apple']\n"
     ]
    }
   ],
   "source": [
    "#creating a empty list\n",
    "shopping = []\n",
    "#adding the item into the shopping list using append method\n",
    "shopping.append('bread')\n",
    "shopping.append('milk')\n",
    "shopping.append('eggs')\n",
    "shopping.append('apple')\n",
    "print(shopping)\n",
    "#Using insert method to add the element at desired positon \n",
    "shopping.insert(2,'ham')\n",
    "print(shopping)"
   ]
  },
  {
   "cell_type": "code",
   "execution_count": 6,
   "metadata": {},
   "outputs": [
    {
     "name": "stdout",
     "output_type": "stream",
     "text": [
      "The Oscar wining movie  The Godfather was release on  1972 .\n",
      "Wait we have a new rating for the movie....\n",
      "...and it is  9.25\n"
     ]
    }
   ],
   "source": [
    "'''Storing the movie record using the dictionary'''\n",
    "movie = {\n",
    "    'title' : 'The Godfather',\n",
    "    'director' : 'Francis Ford Coppola',\n",
    "    'Year' : 1972,\n",
    "    'rating' :9.2\n",
    "}\n",
    "\n",
    "print(\"The Oscar wining movie \",movie['title'],'was release on ',movie['Year'],'.')\n",
    "print( \"Wait we have a new rating for the movie....\")\n",
    "movie['rating'] = (movie['rating']+9.3)/2\n",
    "print(\"...and it is \",movie['rating'])"
   ]
  },
  {
   "cell_type": "code",
   "execution_count": 8,
   "metadata": {},
   "outputs": [
    {
     "name": "stdout",
     "output_type": "stream",
     "text": [
      "{'title': 'The Godfather', 'director': 'Francis Ford Coppola', 'year': 1972, 'rating': 9.2, 'actors': ['Marlon Brando', 'Al Pacino', 'James Caan'], 'other_details': {'run_time': 175, 'language': 'English'}}\n"
     ]
    }
   ],
   "source": [
    "\"\"\"Constructing a new Movie Dictionay from scratchand extend it using key-value assignment\"\"\"\n",
    "movie = {}\n",
    "movie['title'] = \"The Godfather\"\n",
    "movie['director'] = \"Francis Ford Coppola\"\n",
    "movie['year'] = 1972\n",
    "movie['rating'] = 9.2\n",
    "\n",
    "#storing a list inside the dictionary as well as storing the dictionary within tht dictionary\n",
    "movie['actors'] = ['Marlon Brando','Al Pacino','James Caan']\n",
    "movie['other_details'] = {\n",
    "    \"run_time\" : 175,\n",
    "    'language' : \"English\"\n",
    "}\n",
    "print(movie)"
   ]
  },
  {
   "cell_type": "code",
   "execution_count": 15,
   "metadata": {},
   "outputs": [
    {
     "name": "stdout",
     "output_type": "stream",
     "text": [
      "Name : John Mckee\n",
      "Age: 38\n",
      "Department: Sales\n",
      "------------------------------\n",
      "Name : Lisa Crawford\n",
      "Age: 29\n",
      "Department: Marketing\n",
      "------------------------------\n",
      "Name : Sujan Patel\n",
      "Age: 33\n",
      "Department: HR\n",
      "------------------------------\n"
     ]
    }
   ],
   "source": [
    "\"\"\"Storing Company Employee Table Data Using a list and a Dictionay\"\"\"\n",
    "employees = [{'name' : 'John Mckee',\n",
    "              'age' : 38,\n",
    "             'department' : 'Sales'},\n",
    "             {'name' : 'Lisa Crawford',\n",
    "             'age' : 29,\n",
    "             'department' : 'Marketing'},\n",
    "             {'name' : 'Sujan Patel',\n",
    "             'age': 33,\n",
    "             'department' : 'HR'} \n",
    "             ]\n",
    "\n",
    "#print( employees)\n",
    "#printing the details of each employee in a presentable format\n",
    "for item in employees:\n",
    "    print ('Name :',item['name'])\n",
    "    print('Age:',item['age'],)\n",
    "    print('Department:',item['department'])\n",
    "    print('-'*30)\n",
    "    \n"
   ]
  },
  {
   "cell_type": "code",
   "execution_count": 23,
   "metadata": {},
   "outputs": [
    {
     "name": "stdout",
     "output_type": "stream",
     "text": [
      "('bread', 'milk', 'eggs', 'apple', 'orange')\n",
      "('bread', 'milk', 'eggs')\n",
      "('apple', True, 3)\n",
      "(('apple', 3), ('orange', 2), ('banana', 12))\n"
     ]
    }
   ],
   "source": [
    "''' Adding new elemet to the tuple\n",
    "    We are unable to append method to add new item to an exising tuple.\n",
    "    SO, the only way to get around this is to create a new tuple\n",
    "    by concanating the exisiting tuple with other new items.\n",
    "'''\n",
    "t = ('bread','milk','eggs')\n",
    "print(t + ('apple' ,'orange'))\n",
    "print(t)\n",
    "\n",
    "#Tuples also support mixed type and nesting\n",
    "t_mixed = 'apple',True , 3\n",
    "print(t_mixed)\n",
    "#We can declare a tuple without using parentheses\n",
    "t_shopping = ('apple',3),('orange',2),('banana',12)\n",
    "print(t_shopping)"
   ]
  },
  {
   "cell_type": "code",
   "execution_count": null,
   "metadata": {},
   "outputs": [],
   "source": [
    "# sets left"
   ]
  }
 ],
 "metadata": {
  "kernelspec": {
   "display_name": "Python 3",
   "language": "python",
   "name": "python3"
  },
  "language_info": {
   "codemirror_mode": {
    "name": "ipython",
    "version": 3
   },
   "file_extension": ".py",
   "mimetype": "text/x-python",
   "name": "python",
   "nbconvert_exporter": "python",
   "pygments_lexer": "ipython3",
   "version": "3.7.4"
  }
 },
 "nbformat": 4,
 "nbformat_minor": 2
}
