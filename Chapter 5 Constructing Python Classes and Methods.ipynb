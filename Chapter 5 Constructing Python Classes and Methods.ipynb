{
 "cells": [
  {
   "cell_type": "code",
   "execution_count": null,
   "metadata": {},
   "outputs": [],
   "source": [
    "my_str = 'hello World!'\n",
    "type(my_str)\n",
    "\n",
    "#this views the docstring of the string class\n",
    "print(my_str.__doc__)\n",
    "\n",
    "#this gives all the propertis and method for the string\n",
    "my_str.__dir__()\n",
    "\n",
    "#capitalizing the pharse\n",
    "print(my_str.capitalize())\n",
    "\n",
    "#printing the hello world in upper case\n",
    "print(my_str.upper())\n",
    "\n",
    "#replacing the space between two words\n",
    "print(my_str.replace(' ',\"\"))"
   ]
  },
  {
   "cell_type": "code",
   "execution_count": 11,
   "metadata": {},
   "outputs": [
    {
     "data": {
      "text/plain": [
       "True"
      ]
     },
     "execution_count": 11,
     "metadata": {},
     "output_type": "execute_result"
    }
   ],
   "source": [
    "\"\"\"Defining classes\"\"\"\n",
    "class Australian():\n",
    "    is_human = True\n",
    "    enjoys_sport = True\n",
    "\n",
    "Hari = Australian()\n",
    "Hari.is_human\n",
    "\n",
    "\n",
    "\n"
   ]
  },
  {
   "cell_type": "code",
   "execution_count": 15,
   "metadata": {},
   "outputs": [
    {
     "name": "stdout",
     "output_type": "stream",
     "text": [
      "This class caputure useful information regarding the pets, just incase if they got lost\n"
     ]
    }
   ],
   "source": [
    "\"\"\"Creating a  Pet class\"\"\"\n",
    "class Pet():\n",
    "    \"\"\"This class caputure useful information regarding the pets, just incase if they got lost\"\"\"\n",
    "    is_human = False\n",
    "    owner = \"Rame Bahadur\"\n",
    "\n",
    "chubbles = Pet()\n",
    "chubbles.is_human\n",
    "chubbles.owner\n",
    "\n",
    "print(chubbles.__doc__)"
   ]
  },
  {
   "cell_type": "code",
   "execution_count": 18,
   "metadata": {},
   "outputs": [
    {
     "name": "stdout",
     "output_type": "stream",
     "text": [
      "blue\n",
      "3\n"
     ]
    }
   ],
   "source": [
    "\"\"\"ex72. Creating a Circle Class\"\"\"\n",
    "class Circle():\n",
    "    is_shape = True\n",
    "    def __init__(self,radius,color):\n",
    "        self.radius = radius\n",
    "        self.color = color\n",
    "\n",
    "first_circle = Circle(2, 'blue')\n",
    "second_circle = Circle(3,'red')\n",
    "print (first_circle.color)\n",
    "print(second_circle.radius)"
   ]
  },
  {
   "cell_type": "code",
   "execution_count": 28,
   "metadata": {},
   "outputs": [
    {
     "name": "stdout",
     "output_type": "stream",
     "text": [
      "None\n",
      "9800000.0\n",
      "Creating the class country with three optional \n",
      "        attributes that can be passed in the init method\n"
     ]
    },
    {
     "data": {
      "text/plain": [
       "{'name': 'United State of America', 'population': None, 'size_kmsq': 9800000.0}"
      ]
     },
     "execution_count": 28,
     "metadata": {},
     "output_type": "execute_result"
    }
   ],
   "source": [
    "\"\"\"The Country Class with Keyword Arguments\"\"\"\n",
    "class Country():\n",
    "    \"\"\"Creating the class country with three optional \n",
    "        attributes that can be passed in the init method\"\"\"\n",
    "    def __init__(self, name = 'Unspecified',population = None, size_kmsq = None):\n",
    "        self.name = name\n",
    "        self.population = population\n",
    "        self.size_kmsq = size_kmsq\n",
    "USA = Country (name = 'United State of America',size_kmsq =9.8e6 )\n",
    "print(USA.population)\n",
    "print(USA.size_kmsq)\n",
    "\n",
    "#using the __dict__ to view a list of the attributes of the USA object\n",
    "print(USA.__doc__)\n",
    "USA.__dict__"
   ]
  },
  {
   "cell_type": "code",
   "execution_count": 32,
   "metadata": {},
   "outputs": [
    {
     "data": {
      "text/plain": [
       "28.274333882308138"
      ]
     },
     "execution_count": 32,
     "metadata": {},
     "output_type": "execute_result"
    }
   ],
   "source": [
    "\"\"\"Adding INSTANCE METHOD to Cirlce class\"\"\"\n",
    "import math \n",
    "class Circle():\n",
    "    is_shape = True\n",
    "    \n",
    "    def __init__(self,radius, color = 'red'):\n",
    "        self.radius = radius\n",
    "        self.color = color\n",
    "    def area(self):\n",
    "        return math.pi * self.radius **2\n",
    "cir = Circle(3)\n",
    "cir.area()"
   ]
  },
  {
   "cell_type": "code",
   "execution_count": 38,
   "metadata": {},
   "outputs": [
    {
     "data": {
      "text/plain": [
       "True"
      ]
     },
     "execution_count": 38,
     "metadata": {},
     "output_type": "execute_result"
    }
   ],
   "source": [
    "\"\"\"Addin INSTANCE METHOD to PET class to \"\"\"\n",
    "class Pet():\n",
    "    def __init__(self,height):\n",
    "        self.height = height\n",
    "        is_human = False\n",
    "        owner = 'Michael Smith'\n",
    "    def is_tall(self):\n",
    "        return self.height >= 50\n",
    "    \n",
    "bowser = Pet(40)\n",
    "bowser.is_tall()\n",
    "bowser.height = 60\n",
    "bowser.is_tall()"
   ]
  },
  {
   "cell_type": "code",
   "execution_count": 43,
   "metadata": {},
   "outputs": [
    {
     "data": {
      "text/plain": [
       "158301.78705281"
      ]
     },
     "execution_count": 43,
     "metadata": {},
     "output_type": "execute_result"
    }
   ],
   "source": [
    "\"\"\"Using the keyword argument inthe context of instance method\"\"\"\n",
    "class Country():\n",
    "    def __init__(self, name = 'Unspecified',population = None , size_kmsq = None):\n",
    "        self.name = name \n",
    "        self.population = population\n",
    "        self.size_kmsq = size_kmsq\n",
    "    \n",
    "    def size_miles_sq(self,conversion_rate = 0.621371):\n",
    "        return self.size_kmsq * conversion_rate **2\n",
    "nepal = Country(name = 'Nepal',size_kmsq = 0.41e6)\n",
    "nepal.size_miles_sq()"
   ]
  },
  {
   "cell_type": "code",
   "execution_count": 49,
   "metadata": {},
   "outputs": [
    {
     "name": "stdout",
     "output_type": "stream",
     "text": [
      "Chubster (height: 30 cm)\n"
     ]
    }
   ],
   "source": [
    "class Pet():\n",
    "    def __init__(self,height,name):\n",
    "        self.height = height\n",
    "        self.name = name\n",
    "    is_human = False\n",
    "    owner = \"Ashim Gelal\"\n",
    "    #Adding a __str__ method :: this method is called whenever the object is rendered as a string\n",
    "    def __str__(self):\n",
    "        return '%s (height: %s cm)' % (self.name,self.height)\n",
    "#creating a pet\n",
    "my_pet = Pet(30,'Chubster')\n",
    "print(my_pet)        # here we are rendering the my_pet object as a string"
   ]
  },
  {
   "cell_type": "code",
   "execution_count": 58,
   "metadata": {},
   "outputs": [
    {
     "name": "stdout",
     "output_type": "stream",
     "text": [
      "India\n",
      "Nepal, Area:141816\n"
     ]
    }
   ],
   "source": [
    "class Country():\n",
    "    def __init__ (self, name = 'Unspecified',population = None, size_kmsq = None):\n",
    "        self.name = name \n",
    "        self.population = population\n",
    "        self.size_kmsq = size_kmsq\n",
    "    def __str__(self):\n",
    "        label = self.name\n",
    "        if self.population :\n",
    "            label = f\"{label},Population:{self.population}\"\n",
    "        if self.size_kmsq :\n",
    "            label = f\"{label}, Area:{self.size_kmsq}\"\n",
    "        return label\n",
    "            \n",
    "india= Country(name = 'India')\n",
    "print(india)\n",
    "nepal = Country(name = \"Nepal\", size_kmsq = 141816)\n",
    "print(nepal)"
   ]
  },
  {
   "cell_type": "code",
   "execution_count": 59,
   "metadata": {},
   "outputs": [
    {
     "ename": "SyntaxError",
     "evalue": "unexpected EOF while parsing (<ipython-input-59-904be832811f>, line 6)",
     "output_type": "error",
     "traceback": [
      "\u001b[1;36m  File \u001b[1;32m\"<ipython-input-59-904be832811f>\"\u001b[1;36m, line \u001b[1;32m6\u001b[0m\n\u001b[1;33m    def __init__(self,birthday,christmas):\u001b[0m\n\u001b[1;37m                                          ^\u001b[0m\n\u001b[1;31mSyntaxError\u001b[0m\u001b[1;31m:\u001b[0m unexpected EOF while parsing\n"
     ]
    }
   ],
   "source": [
    "\"\"\"Refactoring Instance Method Using a STATIC METHOD\n",
    "    >--Static method are used to store utilities related to a class\n",
    "\"\"\"\n",
    "import datetime\n",
    "class Diary():\n",
    "    def __init__(self,birthday,christmas):\n",
    "        self.birthday = birthday\n",
    "        self.christmas = christmas"
   ]
  },
  {
   "cell_type": "code",
   "execution_count": 3,
   "metadata": {},
   "outputs": [
    {
     "name": "stdout",
     "output_type": "stream",
     "text": [
      "14-May-20\n"
     ]
    }
   ],
   "source": [
    "import datetime\n",
    "class Diary():\n",
    "    def __init__(self,birthday,christmas):\n",
    "        self.birthday = birthday\n",
    "        self.christmas = christmas\n",
    "   #adding two instance methods that print out the dates in dd-mm-yy format\n",
    "    def show_birthday(self):\n",
    "        return self.birthday.strftime('%d-%b-%y')\n",
    "    def show_christmas(self):\n",
    "        return self.christmas.strftime('%d-%b-%y')\n",
    "#creating a Diary object \n",
    "my_diary = Diary(datetime.date(2020,5,14),datetime.date(2020,12,25))\n",
    "print(my_diary.show_birthday())\n",
    "\n"
   ]
  },
  {
   "cell_type": "code",
   "execution_count": 6,
   "metadata": {},
   "outputs": [
    {
     "name": "stdout",
     "output_type": "stream",
     "text": [
      "14-May-20\n"
     ]
    }
   ],
   "source": [
    "\"\"\" Refactoring Instance Methods Using a Static Method (ABOVE CODE)\"\"\"\n",
    "class Diary():\n",
    "    def __init__(self,birthday,christmas):\n",
    "        self.birthday = birthday\n",
    "        self.christmas = christmas\n",
    "    @staticmethod\n",
    "    def format_date(date):\n",
    "        return date.strftime('%d-%b-%y')\n",
    "    def show_birthday(self):\n",
    "        return self.format_date(self.birthday)\n",
    "    def show_christmas(self):\n",
    "        return self.format_date(self.christmas)\n",
    "#creating a Diary object    \n",
    "my_diary = Diary(datetime.date(2020,5,14),datetime.date(2020,12,25))\n",
    "print(my_diary.show_birthday())"
   ]
  },
  {
   "cell_type": "code",
   "execution_count": 9,
   "metadata": {},
   "outputs": [
    {
     "name": "stdout",
     "output_type": "stream",
     "text": [
      "70\n",
      "84\n",
      "33\n",
      "32\n",
      "78\n"
     ]
    }
   ],
   "source": [
    "\"\"\"Extendning Pet class with Classs Method\"\"\"\n",
    "import random\n",
    "class Pet():\n",
    "    def __init__(self,height):\n",
    "        self.height = height\n",
    "        \n",
    "    is_human = False\n",
    "    owner = 'Michael Smith'\n",
    "    \n",
    "    #adding the class method \n",
    "    @classmethod\n",
    "    def owned_by_smith_family(cls):\n",
    "        return 'Smith' in cls.owner\n",
    "    @classmethod\n",
    "    def create_random_height_pet(cls):\n",
    "        height = random.randrange(0,100)\n",
    "        return cls(height)\n",
    "#creating 5 new pets and observing their heights\n",
    "for i in range(5):\n",
    "    pet = Pet.create_random_height_pet()\n",
    "    print(pet.height)\n",
    "\n"
   ]
  },
  {
   "cell_type": "code",
   "execution_count": 12,
   "metadata": {},
   "outputs": [
    {
     "data": {
      "text/plain": [
       "212.0"
      ]
     },
     "execution_count": 12,
     "metadata": {},
     "output_type": "execute_result"
    }
   ],
   "source": [
    "\"\"\" Using the @property decorator\"\"\"\n",
    "class Temperature():\n",
    "    def __init__(self,celsius):\n",
    "        self.celsius = celsius\n",
    "        \n",
    "    @property\n",
    "    def fahrenheit(self):\n",
    "        return self.celsius * 9 / 5 + 32\n",
    "boiling = Temperature (100)\n",
    "boiling.fahrenheit\n"
   ]
  },
  {
   "cell_type": "code",
   "execution_count": 15,
   "metadata": {},
   "outputs": [
    {
     "data": {
      "text/plain": [
       "'Mary Lou'"
      ]
     },
     "execution_count": 15,
     "metadata": {},
     "output_type": "execute_result"
    }
   ],
   "source": [
    "\"\"\"Exerise 79\"\"\"\n",
    "#creating a Person class \n",
    "class Person():\n",
    "    def __init__(self,first_name, last_name):\n",
    "        self.first_name = first_name \n",
    "        self.last_name = last_name\n",
    "   #adding the full_name property with the @property decorator\n",
    "    @property \n",
    "    def full_name(self):\n",
    "        return '%s %s'%(self.first_name, self.last_name)\n",
    "#creating the customer object and test the full_name property\n",
    "customer = Person('Mary','Lou')    \n",
    "customer.full_name "
   ]
  },
  {
   "cell_type": "code",
   "execution_count": 3,
   "metadata": {},
   "outputs": [
    {
     "name": "stdout",
     "output_type": "stream",
     "text": [
      "Ashim Gelal\n",
      "Ram Gelal\n"
     ]
    },
    {
     "data": {
      "text/plain": [
       "'Timilsina'"
      ]
     },
     "execution_count": 3,
     "metadata": {},
     "output_type": "execute_result"
    }
   ],
   "source": [
    "\"\"\" Using the setter method in above code\n",
    "    This helps the user to write code without any worry about thinking which \n",
    "    attributes of an object are stored as a instance attribute \n",
    "    or computed by the function\n",
    "\"\"\"\n",
    "class Person():\n",
    "    def __init__(self, first_name,last_name):\n",
    "        self.first_name = first_name \n",
    "        self.last_name = last_name\n",
    "    @property \n",
    "    def full_name(self):\n",
    "        return '%s %s' %(self.first_name, self.last_name)\n",
    "    \n",
    "    @full_name.setter                 #The decorator should be the method nanme followed by .setter\n",
    "    def full_name(self,name):         # The name of setter method should be same as the @property\n",
    "        first,last = name.split(' ')  #It should take the value being assigned as a single argument\n",
    "        self.first_name = first\n",
    "        self.last_name = last\n",
    "customer = Person('Ashim', 'Gelal')\n",
    "print(customer.full_name)\n",
    "\n",
    "customer.full_name = \"Ram Gelal\"\n",
    "print(customer.full_name)\n",
    "\n",
    "#we can also update the first and last names simultaneously by assigning a new value to the full_name property\n",
    "customer.full_name = \"Mira Timilsina\"\n",
    "customer.last_name "
   ]
  },
  {
   "cell_type": "code",
   "execution_count": 6,
   "metadata": {},
   "outputs": [
    {
     "data": {
      "text/plain": [
       "2.2222222222222223"
      ]
     },
     "execution_count": 6,
     "metadata": {},
     "output_type": "execute_result"
    }
   ],
   "source": [
    "\"\"\" Exerise 80 Writing The Setter Method\n",
    "    Extendning the Temperature class by allowing the user to assign\n",
    "    a new value for fahrenheit directly to the property\n",
    "\"\"\"\n",
    "class Temperature():\n",
    "    def __init__(self,celsius):\n",
    "        self.celsius = celsius\n",
    "    @property\n",
    "    def fahrenheit(self):\n",
    "        return self.celsius * 9 /5 + 32\n",
    "    #adding @fahrenheit.setter function that converts the fahreheit value to Celsius and storing it inthe celsius instance attribute\n",
    "    @fahrenheit.setter\n",
    "    def fahrenheit(self,value):\n",
    "        self.celsius = (value - 32) * 5 / 9\n",
    "\n",
    "#creating a new temperatue and checking the fahrenheit property\n",
    "temp = Temperature(5)\n",
    "temp.fahrenheit\n",
    "\n",
    "#updating the fahrenheit property and checking the celsius attribute\n",
    "temp.fahrenheit = 36\n",
    "temp.celsius\n",
    "\n",
    "\n"
   ]
  },
  {
   "cell_type": "code",
   "execution_count": 9,
   "metadata": {},
   "outputs": [
    {
     "name": "stdout",
     "output_type": "stream",
     "text": [
      "None\n"
     ]
    }
   ],
   "source": [
    "class MyInt(int):\n",
    "    def is_divisible_by(self,x):\n",
    "        return self % x == 0\n",
    "a = MyInt(8)\n",
    "a.is_divisible_by(2)\n"
   ]
  },
  {
   "cell_type": "code",
   "execution_count": 15,
   "metadata": {},
   "outputs": [
    {
     "name": "stdout",
     "output_type": "stream",
     "text": [
      "2020-01-10\n",
      "2021-01-04\n"
     ]
    }
   ],
   "source": [
    "\"\"\"Sub-Classing the datetime.date class\"\"\"\n",
    "import datetime \n",
    "class MyDate(datetime.date):\n",
    "    def add_days(self,n):\n",
    "        return self + datetime.timedelta(n)\n",
    "d = MyDate(2019,12,1)\n",
    "print(d.add_days(40))\n",
    "print(d.add_days(400))"
   ]
  },
  {
   "cell_type": "code",
   "execution_count": 26,
   "metadata": {},
   "outputs": [
    {
     "name": "stdout",
     "output_type": "stream",
     "text": [
      "Gopal Prasad Rai\n",
      "Prasad Rai\n"
     ]
    }
   ],
   "source": [
    "\"\"\" Overriding Method\n",
    "    \n",
    "\"\"\"\n",
    "class Person():\n",
    "    def __init__(self, first_name,last_name):\n",
    "        self.first_name = first_name \n",
    "        self.last_name = last_name\n",
    "    @property \n",
    "    def full_name(self):\n",
    "        return '%s %s' %(self.first_name, self.last_name)\n",
    "    \n",
    "    @full_name.setter                 #The decorator should be the method nanme followed by .setter\n",
    "    def full_name(self,name):         # The name of setter method should be same as the @property\n",
    "        first,last = name.split(' ')  #It should take the value being assigned as a single argument\n",
    "        self.first_name = first\n",
    "        self.last_name = last\n",
    "class BetterPerson(Person):\n",
    "    @property\n",
    "    def full_name(self):\n",
    "            return '%s %s' % (self.first_name,self.last_name)\n",
    "    #adding the full_name.setter to split the full name into components then set firstname equal to first part and the remaning component to the lastname\n",
    "    @full_name.setter\n",
    "    def full_name(self,name):\n",
    "        names = name.split(' ')\n",
    "        self.first_name = names[0]\n",
    "        if len(names) > 2:\n",
    "            self.last_name = ' '.join(names[1:])\n",
    "        elif len(names) == 2:\n",
    "            self.last_name == names[1]\n",
    "#creating the BetterPerson instance\n",
    "my_person = BetterPerson ('Mary',\"Smith\")\n",
    "my_person.full_name\n",
    "my_person.full_name = 'Gopal Prasad Rai'\n",
    "print(my_person.full_name)\n",
    "print(my_person.last_name)\n"
   ]
  },
  {
   "cell_type": "code",
   "execution_count": 29,
   "metadata": {},
   "outputs": [
    {
     "name": "stdout",
     "output_type": "stream",
     "text": [
      "Hello,My name is John \n",
      "It is a Pleasure to meet You!\n"
     ]
    }
   ],
   "source": [
    "\"\"\"Calling parents class with super()\"\"\"\n",
    "class Person():\n",
    "    def __init__(self,first_name, last_name):\n",
    "        self.first_name = first_name\n",
    "        self.last_name = last_name \n",
    "    def speak(self):\n",
    "        print('Hello,My name is %s ' %self.first_name)\n",
    "class TalkativePerson(Person):\n",
    "    def speak(self):\n",
    "        super().speak()   #calling the parent speak function\n",
    "        print(\"It is a Pleasure to meet You!\")\n",
    "#creating a person instance\n",
    "john = TalkativePerson(\"John\",\"Tomic\")\n",
    "john.speak()"
   ]
  },
  {
   "cell_type": "code",
   "execution_count": 1,
   "metadata": {},
   "outputs": [
    {
     "ename": "NameError",
     "evalue": "name 'christmas' is not defined",
     "output_type": "error",
     "traceback": [
      "\u001b[1;31m---------------------------------------------------------------------------\u001b[0m",
      "\u001b[1;31mNameError\u001b[0m                                 Traceback (most recent call last)",
      "\u001b[1;32m<ipython-input-1-fb51d7de129e>\u001b[0m in \u001b[0;36m<module>\u001b[1;34m\u001b[0m\n\u001b[0;32m     29\u001b[0m \u001b[1;33m\u001b[0m\u001b[0m\n\u001b[0;32m     30\u001b[0m \u001b[1;33m\u001b[0m\u001b[0m\n\u001b[1;32m---> 31\u001b[1;33m \u001b[0mfirst_diary\u001b[0m \u001b[1;33m=\u001b[0m \u001b[0mCustomDiary\u001b[0m\u001b[1;33m(\u001b[0m\u001b[0mdatetime\u001b[0m\u001b[1;33m.\u001b[0m\u001b[0mdate\u001b[0m\u001b[1;33m(\u001b[0m\u001b[1;36m2018\u001b[0m\u001b[1;33m,\u001b[0m\u001b[1;36m1\u001b[0m\u001b[1;33m,\u001b[0m\u001b[1;36m1\u001b[0m\u001b[1;33m)\u001b[0m\u001b[1;33m,\u001b[0m\u001b[0mdatetime\u001b[0m\u001b[1;33m.\u001b[0m\u001b[0mdate\u001b[0m\u001b[1;33m(\u001b[0m\u001b[1;36m2018\u001b[0m\u001b[1;33m,\u001b[0m\u001b[1;36m3\u001b[0m\u001b[1;33m,\u001b[0m\u001b[1;36m3\u001b[0m\u001b[1;33m)\u001b[0m\u001b[1;33m,\u001b[0m\u001b[1;34m'%d-%b-%Y'\u001b[0m\u001b[1;33m)\u001b[0m\u001b[1;33m\u001b[0m\u001b[1;33m\u001b[0m\u001b[0m\n\u001b[0m\u001b[0;32m     32\u001b[0m \u001b[0msecond_diary\u001b[0m \u001b[1;33m=\u001b[0m \u001b[0mCustomDiary\u001b[0m\u001b[1;33m(\u001b[0m\u001b[0mdatetime\u001b[0m\u001b[1;33m.\u001b[0m\u001b[0mdate\u001b[0m\u001b[1;33m(\u001b[0m\u001b[1;36m2018\u001b[0m\u001b[1;33m,\u001b[0m\u001b[1;36m1\u001b[0m\u001b[1;33m,\u001b[0m\u001b[1;36m1\u001b[0m\u001b[1;33m)\u001b[0m\u001b[1;33m,\u001b[0m\u001b[0mdatetime\u001b[0m\u001b[1;33m.\u001b[0m\u001b[0mdate\u001b[0m\u001b[1;33m(\u001b[0m\u001b[1;36m2018\u001b[0m\u001b[1;33m,\u001b[0m\u001b[1;36m3\u001b[0m\u001b[1;33m,\u001b[0m\u001b[1;36m3\u001b[0m\u001b[1;33m)\u001b[0m\u001b[1;33m,\u001b[0m\u001b[1;34m'%d/%m/%Y'\u001b[0m\u001b[1;33m)\u001b[0m\u001b[1;33m\u001b[0m\u001b[1;33m\u001b[0m\u001b[0m\n\u001b[0;32m     33\u001b[0m \u001b[1;33m\u001b[0m\u001b[0m\n",
      "\u001b[1;32m<ipython-input-1-fb51d7de129e>\u001b[0m in \u001b[0;36m__init__\u001b[1;34m(self, birthday, christmas, date_format)\u001b[0m\n\u001b[0;32m     22\u001b[0m     \u001b[1;32mdef\u001b[0m \u001b[0m__init__\u001b[0m\u001b[1;33m(\u001b[0m\u001b[0mself\u001b[0m\u001b[1;33m,\u001b[0m \u001b[0mbirthday\u001b[0m\u001b[1;33m,\u001b[0m \u001b[0mchristmas\u001b[0m\u001b[1;33m,\u001b[0m \u001b[0mdate_format\u001b[0m\u001b[1;33m)\u001b[0m\u001b[1;33m:\u001b[0m\u001b[1;33m\u001b[0m\u001b[1;33m\u001b[0m\u001b[0m\n\u001b[0;32m     23\u001b[0m         \u001b[0mself\u001b[0m\u001b[1;33m.\u001b[0m\u001b[0mdate_format\u001b[0m \u001b[1;33m=\u001b[0m \u001b[0mdate_format\u001b[0m\u001b[1;33m\u001b[0m\u001b[1;33m\u001b[0m\u001b[0m\n\u001b[1;32m---> 24\u001b[1;33m         \u001b[0msuper\u001b[0m\u001b[1;33m(\u001b[0m\u001b[1;33m)\u001b[0m\u001b[1;33m.\u001b[0m\u001b[0m__init__\u001b[0m\u001b[1;33m(\u001b[0m\u001b[0mbirthday\u001b[0m\u001b[1;33m,\u001b[0m \u001b[0mchristmas\u001b[0m\u001b[1;33m)\u001b[0m\u001b[1;33m\u001b[0m\u001b[1;33m\u001b[0m\u001b[0m\n\u001b[0m\u001b[0;32m     25\u001b[0m \u001b[1;33m\u001b[0m\u001b[0m\n\u001b[0;32m     26\u001b[0m     \u001b[1;32mdef\u001b[0m \u001b[0mformat_date\u001b[0m\u001b[1;33m(\u001b[0m\u001b[0mself\u001b[0m\u001b[1;33m,\u001b[0m \u001b[0mdate\u001b[0m\u001b[1;33m)\u001b[0m\u001b[1;33m:\u001b[0m\u001b[1;33m\u001b[0m\u001b[1;33m\u001b[0m\u001b[0m\n",
      "\u001b[1;32m<ipython-input-1-fb51d7de129e>\u001b[0m in \u001b[0;36m__init__\u001b[1;34m(self, birthday, chritmas)\u001b[0m\n\u001b[0;32m      6\u001b[0m     \u001b[1;32mdef\u001b[0m \u001b[0m__init__\u001b[0m\u001b[1;33m(\u001b[0m\u001b[0mself\u001b[0m\u001b[1;33m,\u001b[0m \u001b[0mbirthday\u001b[0m\u001b[1;33m,\u001b[0m \u001b[0mchritmas\u001b[0m\u001b[1;33m)\u001b[0m\u001b[1;33m:\u001b[0m\u001b[1;33m\u001b[0m\u001b[1;33m\u001b[0m\u001b[0m\n\u001b[0;32m      7\u001b[0m         \u001b[0mself\u001b[0m\u001b[1;33m.\u001b[0m\u001b[0mbirthday\u001b[0m \u001b[1;33m=\u001b[0m \u001b[0mbirthday\u001b[0m\u001b[1;33m\u001b[0m\u001b[1;33m\u001b[0m\u001b[0m\n\u001b[1;32m----> 8\u001b[1;33m         \u001b[0mself\u001b[0m\u001b[1;33m.\u001b[0m\u001b[0mchristmas\u001b[0m \u001b[1;33m=\u001b[0m \u001b[0mchristmas\u001b[0m\u001b[1;33m\u001b[0m\u001b[1;33m\u001b[0m\u001b[0m\n\u001b[0m\u001b[0;32m      9\u001b[0m \u001b[1;33m\u001b[0m\u001b[0m\n\u001b[0;32m     10\u001b[0m     \u001b[1;33m@\u001b[0m\u001b[0mstaticmethod\u001b[0m\u001b[1;33m\u001b[0m\u001b[1;33m\u001b[0m\u001b[0m\n",
      "\u001b[1;31mNameError\u001b[0m: name 'christmas' is not defined"
     ]
    }
   ],
   "source": [
    "\"\"\" Exerise 82 Overriding  Methods Using super()\n",
    "\n",
    "\"\"\"\n",
    "import datetime\n",
    "class Diary():\n",
    "    def __init__(self, birthday, chritmas):\n",
    "        self.birthday = birthday\n",
    "        self.christmas = christmas \n",
    "        \n",
    "    @staticmethod\n",
    "    def format_date(date):\n",
    "        return date.strftime('%d-%b-%y')\n",
    "   \n",
    "    def show_birthday(self):\n",
    "        return self.format_date(self.birthday)\n",
    "    \n",
    "    def show_christmas(self):\n",
    "        return self.format_date(self.christmas)\n",
    "\n",
    "    \n",
    "class CustomDiary(Diary): \n",
    "    def __init__(self, birthday, christmas, date_format):\n",
    "        self.date_format = date_format\n",
    "        super().__init__(birthday, christmas)\n",
    "        \n",
    "    def format_date(self, date):\n",
    "        return  date.strftime(self.date_format)\n",
    "    \n",
    "    \n",
    "    \n",
    "first_diary = CustomDiary(datetime.date(2018,1,1),datetime.date(2018,3,3),'%d-%b-%Y')\n",
    "second_diary = CustomDiary(datetime.date(2018,1,1),datetime.date(2018,3,3),'%d/%m/%Y')\n",
    "\n",
    "print(first_diary.show_birthday())\n",
    "print(second_diary.show_christmas())"
   ]
  },
  {
   "cell_type": "markdown",
   "metadata": {},
   "source": [
    "Muliple Inheritance \n",
    "It is Possiblle to inherit from more than one parent class\n"
   ]
  },
  {
   "cell_type": "code",
   "execution_count": 51,
   "metadata": {},
   "outputs": [
    {
     "name": "stdout",
     "output_type": "stream",
     "text": [
      "Hello, my Name is Andres\n",
      "Bla Bla Bla\n",
      "!!!!!WARNING!!! Note that you are booking an appointment with a baby\n",
      "Booking appointment for date 2018-01-01\n"
     ]
    }
   ],
   "source": [
    "\"\"\" Multiple Inheritance\n",
    "    It is possible to inherit from more than one parent class\n",
    "\"\"\"\n",
    "import datetime\n",
    "\n",
    "#creating a Person class\n",
    "class Person():\n",
    "    def __init__(self, first_name, last_name):\n",
    "        self.first_name = first_name\n",
    "        self.last_name = last_name \n",
    "        \n",
    "class Baby(Person):\n",
    "    def speak(self):\n",
    "        print('Bla Bla Bla')\n",
    "        \n",
    "class Adult(Person):\n",
    "    def speak(self):\n",
    "        print(\"Hello, my Name is %s\" % self.first_name)\n",
    "        \n",
    "class Calendar():\n",
    "    def book_appointment(self,date):\n",
    "        print('Booking appointment for date %s' % date)\n",
    "        \n",
    "class OrganizedAdult(Adult,Calendar):\n",
    "    pass   #If we want to define a classs without addin or customizing its methods/attributes we can simply write pass\n",
    "    \n",
    "class OrganizedBaby(Baby,Calendar):\n",
    "    def book_appointment(self,date):\n",
    "        print('!!!!!WARNING!!! Note that you are booking an appointment with a baby')\n",
    "        super().book_appointment(date)\n",
    "\n",
    "andres = OrganizedAdult('Andres','Gomez')\n",
    "boris  = OrganizedBaby('Boris','BumbleButton')\n",
    "\n",
    "andres.speak()\n",
    "boris.speak()\n",
    "\n",
    "boris.book_appointment(datetime.date(2018,1,1))\n",
    "\n",
    "\n"
   ]
  },
  {
   "cell_type": "code",
   "execution_count": null,
   "metadata": {},
   "outputs": [],
   "source": []
  }
 ],
 "metadata": {
  "kernelspec": {
   "display_name": "Python 3",
   "language": "python",
   "name": "python3"
  },
  "language_info": {
   "codemirror_mode": {
    "name": "ipython",
    "version": 3
   },
   "file_extension": ".py",
   "mimetype": "text/x-python",
   "name": "python",
   "nbconvert_exporter": "python",
   "pygments_lexer": "ipython3",
   "version": "3.7.4"
  }
 },
 "nbformat": 4,
 "nbformat_minor": 2
}
