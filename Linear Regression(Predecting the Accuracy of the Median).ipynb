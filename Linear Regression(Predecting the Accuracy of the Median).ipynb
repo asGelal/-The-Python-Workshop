{
 "cells": [
  {
   "cell_type": "code",
   "execution_count": 25,
   "metadata": {},
   "outputs": [],
   "source": [
    "\"\"\"importing ah the necessary libraries\"\"\"\n",
    "import pandas as pd\n",
    "import numpy as np\n",
    "\n",
    "from sklearn.linear_model import LinearRegression\n",
    "from sklearn.metrics import mean_squared_error\n",
    "from sklearn.model_selection import train_test_split\n",
    "\n",
    "\n"
   ]
  },
  {
   "cell_type": "code",
   "execution_count": 26,
   "metadata": {},
   "outputs": [
    {
     "data": {
      "text/html": [
       "<div>\n",
       "<style scoped>\n",
       "    .dataframe tbody tr th:only-of-type {\n",
       "        vertical-align: middle;\n",
       "    }\n",
       "\n",
       "    .dataframe tbody tr th {\n",
       "        vertical-align: top;\n",
       "    }\n",
       "\n",
       "    .dataframe thead th {\n",
       "        text-align: right;\n",
       "    }\n",
       "</style>\n",
       "<table border=\"1\" class=\"dataframe\">\n",
       "  <thead>\n",
       "    <tr style=\"text-align: right;\">\n",
       "      <th></th>\n",
       "      <th>CRIM</th>\n",
       "      <th>ZN</th>\n",
       "      <th>INDUS</th>\n",
       "      <th>CHAS</th>\n",
       "      <th>NOX</th>\n",
       "      <th>RM</th>\n",
       "      <th>AGE</th>\n",
       "      <th>DIS</th>\n",
       "      <th>RAD</th>\n",
       "      <th>TAX</th>\n",
       "      <th>PTRATIO</th>\n",
       "      <th>B</th>\n",
       "      <th>LSTAT</th>\n",
       "      <th>MEDV</th>\n",
       "    </tr>\n",
       "  </thead>\n",
       "  <tbody>\n",
       "    <tr>\n",
       "      <td>0</td>\n",
       "      <td>0.00632</td>\n",
       "      <td>18.0</td>\n",
       "      <td>2.31</td>\n",
       "      <td>0.0</td>\n",
       "      <td>0.538</td>\n",
       "      <td>6.575</td>\n",
       "      <td>65.2</td>\n",
       "      <td>4.0900</td>\n",
       "      <td>1</td>\n",
       "      <td>296</td>\n",
       "      <td>15.3</td>\n",
       "      <td>396.90</td>\n",
       "      <td>4.98</td>\n",
       "      <td>24.0</td>\n",
       "    </tr>\n",
       "    <tr>\n",
       "      <td>1</td>\n",
       "      <td>0.02731</td>\n",
       "      <td>0.0</td>\n",
       "      <td>7.07</td>\n",
       "      <td>0.0</td>\n",
       "      <td>0.469</td>\n",
       "      <td>6.421</td>\n",
       "      <td>78.9</td>\n",
       "      <td>4.9671</td>\n",
       "      <td>2</td>\n",
       "      <td>242</td>\n",
       "      <td>17.8</td>\n",
       "      <td>396.90</td>\n",
       "      <td>9.14</td>\n",
       "      <td>21.6</td>\n",
       "    </tr>\n",
       "    <tr>\n",
       "      <td>2</td>\n",
       "      <td>0.02729</td>\n",
       "      <td>0.0</td>\n",
       "      <td>7.07</td>\n",
       "      <td>0.0</td>\n",
       "      <td>0.469</td>\n",
       "      <td>7.185</td>\n",
       "      <td>61.1</td>\n",
       "      <td>4.9671</td>\n",
       "      <td>2</td>\n",
       "      <td>242</td>\n",
       "      <td>17.8</td>\n",
       "      <td>392.83</td>\n",
       "      <td>4.03</td>\n",
       "      <td>34.7</td>\n",
       "    </tr>\n",
       "    <tr>\n",
       "      <td>3</td>\n",
       "      <td>0.03237</td>\n",
       "      <td>0.0</td>\n",
       "      <td>2.18</td>\n",
       "      <td>0.0</td>\n",
       "      <td>0.458</td>\n",
       "      <td>6.998</td>\n",
       "      <td>45.8</td>\n",
       "      <td>6.0622</td>\n",
       "      <td>3</td>\n",
       "      <td>222</td>\n",
       "      <td>18.7</td>\n",
       "      <td>394.63</td>\n",
       "      <td>2.94</td>\n",
       "      <td>33.4</td>\n",
       "    </tr>\n",
       "    <tr>\n",
       "      <td>4</td>\n",
       "      <td>0.06905</td>\n",
       "      <td>0.0</td>\n",
       "      <td>2.18</td>\n",
       "      <td>0.0</td>\n",
       "      <td>0.458</td>\n",
       "      <td>7.147</td>\n",
       "      <td>54.2</td>\n",
       "      <td>6.0622</td>\n",
       "      <td>3</td>\n",
       "      <td>222</td>\n",
       "      <td>18.7</td>\n",
       "      <td>396.90</td>\n",
       "      <td>NaN</td>\n",
       "      <td>36.2</td>\n",
       "    </tr>\n",
       "  </tbody>\n",
       "</table>\n",
       "</div>"
      ],
      "text/plain": [
       "      CRIM    ZN  INDUS  CHAS    NOX     RM   AGE     DIS  RAD  TAX  PTRATIO  \\\n",
       "0  0.00632  18.0   2.31   0.0  0.538  6.575  65.2  4.0900    1  296     15.3   \n",
       "1  0.02731   0.0   7.07   0.0  0.469  6.421  78.9  4.9671    2  242     17.8   \n",
       "2  0.02729   0.0   7.07   0.0  0.469  7.185  61.1  4.9671    2  242     17.8   \n",
       "3  0.03237   0.0   2.18   0.0  0.458  6.998  45.8  6.0622    3  222     18.7   \n",
       "4  0.06905   0.0   2.18   0.0  0.458  7.147  54.2  6.0622    3  222     18.7   \n",
       "\n",
       "        B  LSTAT  MEDV  \n",
       "0  396.90   4.98  24.0  \n",
       "1  396.90   9.14  21.6  \n",
       "2  392.83   4.03  34.7  \n",
       "3  394.63   2.94  33.4  \n",
       "4  396.90    NaN  36.2  "
      ]
     },
     "execution_count": 26,
     "metadata": {},
     "output_type": "execute_result"
    }
   ],
   "source": [
    "\"\"\"Loading the data\"\"\"\n",
    "housing_df = pd.read_csv(\"HousingData.csv\")\n",
    "housing_df.head()\n",
    "\n",
    "\n"
   ]
  },
  {
   "cell_type": "code",
   "execution_count": 27,
   "metadata": {},
   "outputs": [
    {
     "name": "stdout",
     "output_type": "stream",
     "text": [
      "22.35964467005079\n"
     ]
    }
   ],
   "source": [
    "\"\"\"Cleaning the datatset ;here droping the null values by using the dropna()function\"\"\"\n",
    "housing_df = housing_df.dropna()\n",
    "mean = np.mean(housing_df['MEDV'])\n",
    "print(mean)"
   ]
  },
  {
   "cell_type": "code",
   "execution_count": 28,
   "metadata": {},
   "outputs": [],
   "source": [
    "\"\"\" Declaring the two variables(X,Y)\n",
    "    Here target column is MEDV\n",
    "    \n",
    "\"\"\"\n",
    "X= housing_df.iloc[:,:-1]\n",
    "Y = housing_df.iloc[:,-1]\n",
    "# print(x)\n",
    "#print(y)\n"
   ]
  },
  {
   "cell_type": "code",
   "execution_count": 29,
   "metadata": {},
   "outputs": [],
   "source": [
    "\"\"\"Creating and Training and TEST Sets\"\"\"\n",
    "X_train,X_test,y_train,y_test = train_test_split(X,Y,test_size = 0.2)\n",
    "#here test size = 0.2 reflect the percentage of rows held back for the test set\n"
   ]
  },
  {
   "cell_type": "code",
   "execution_count": 30,
   "metadata": {},
   "outputs": [],
   "source": [
    "\"\"\"Creating the regressor: reg\"\"\"\n",
    "reg = LinearRegression()\n"
   ]
  },
  {
   "cell_type": "code",
   "execution_count": 31,
   "metadata": {},
   "outputs": [
    {
     "data": {
      "text/plain": [
       "LinearRegression(copy_X=True, fit_intercept=True, n_jobs=None, normalize=False)"
      ]
     },
     "execution_count": 31,
     "metadata": {},
     "output_type": "execute_result"
    }
   ],
   "source": [
    "#Fitting the model to the data using the .fit() method\n",
    "reg.fit(X_train,y_train)"
   ]
  },
  {
   "cell_type": "code",
   "execution_count": 32,
   "metadata": {},
   "outputs": [],
   "source": [
    "#Prediction on the test data: y_pred\n",
    "y_pred = reg.predict(X_test)"
   ]
  },
  {
   "cell_type": "code",
   "execution_count": 33,
   "metadata": {},
   "outputs": [
    {
     "name": "stdout",
     "output_type": "stream",
     "text": [
      "Root Mean Squared Error:4.517875539248309\n"
     ]
    }
   ],
   "source": [
    "\"\"\"Testing the predicted value(y_pred) by comparing it to the actual y-values(y_test) \"\"\"\n",
    "rmse = np.sqrt(mean_squared_error(y_test,y_pred))\n",
    "print(\"Root Mean Squared Error:{}\".format(rmse))"
   ]
  },
  {
   "cell_type": "code",
   "execution_count": 34,
   "metadata": {},
   "outputs": [],
   "source": [
    " def regression_model(model):\n",
    "        #creating the traing and test sets\n",
    "        x_train,x_test,y_train,y_test = train_test_split(X,Y,test_size = 0.2)\n",
    "        \n",
    "        #create the regressor : reg_all\n",
    "        reg_all = model\n",
    "        #fit the regressor to the training data\n",
    "        reg_all.fit(x_train,y_train)\n",
    "        #Predict on the test data:y_pred\n",
    "        y_pred = reg_all.predict(x_test)\n",
    "#         print(y_pred)\n",
    "        #compute and print RMSE\n",
    "        rmse = np.sqrt(mean_squared_error(y_test,y_pred))\n",
    "        print(\"Root mean Squared Error: {}\".format(rmse))\n",
    "\n",
    "        "
   ]
  },
  {
   "cell_type": "code",
   "execution_count": 35,
   "metadata": {},
   "outputs": [
    {
     "name": "stdout",
     "output_type": "stream",
     "text": [
      "[27.73257466 20.31560021 14.23152435 19.24802845 10.77703126 15.83189825\n",
      " 23.49616148 21.43503706 31.08511061 28.58267485 10.60471763 24.45031817\n",
      " 39.90791644 21.03816428 34.85088381 26.70298651 20.61538124 28.67636529\n",
      " 26.72481425 22.67297454 36.79373294 35.65661234 22.11589779 25.70754157\n",
      " 35.77151599 15.11475994 23.00277687 28.16486985 33.08892549 17.20451576\n",
      " 12.33957342 32.82643783 25.50620943 16.06298175 32.77686356 20.07360616\n",
      " 16.03250184 30.88251318 20.90886303 16.57097136 39.33030544 17.02485204\n",
      " 14.79640943 31.26014657 27.19239644 21.24238015 21.80429172 -1.17732099\n",
      " 18.0018288  21.18622251 13.80737074 17.52859428  0.35264474 27.27265583\n",
      "  9.56495753 19.33606369 22.39629368 23.03463486 22.96295184 23.15575413\n",
      " 28.73964087 21.84779349  9.85642805 45.70964272 27.02566895 18.85803042\n",
      " 25.19211974 19.78084085 23.4351072  24.0876654  23.96136146 11.39731641\n",
      "  4.70913258 25.06591182 29.93222678 25.80381827 21.58867283 24.52250211\n",
      " 18.76037276]\n",
      "Root mean Squared Error: 5.053671146921566\n",
      "[24.06218396 15.16831065 17.11456366 30.14947    33.01311903 12.50611831\n",
      " 10.82511821 13.21501447 20.63887875 26.83072468 23.76264357 40.85960659\n",
      " 18.5170458  24.59703178 42.73985181 24.86754594 19.42431071 18.93770479\n",
      " 14.0849936  29.3460593   7.65089171 24.72758274 35.7276292  16.70803336\n",
      " 33.94447507  8.06070052 17.51875238 35.32139942 31.67466719 20.00887069\n",
      " 26.05431648 25.15087738 30.20954863 17.19042223 19.58880655 28.72312777\n",
      " 18.74269459 35.23491827 25.14959494  9.57570504 19.29502253 14.54458857\n",
      " 22.99348692 34.11463817 35.11259338 23.46680521 13.46404173 42.64204025\n",
      " 21.22142145 22.92181368 23.9570878  20.84858473 32.62447607 10.17532296\n",
      " 28.44330853 31.84021727 35.04076309  8.4666741  17.57002027 32.00184856\n",
      " 25.33011025 16.00226099  8.83495528 15.9466581  12.10012542 17.83902086\n",
      " 34.83539969 21.48509684 15.84057427 35.56478788 16.34963415 20.6421599\n",
      " 12.36296264 17.84307405 13.21739088 20.19749981 20.77099047 17.29285823\n",
      " 16.93317126]\n",
      "Root mean Squared Error: 4.901267559137849\n",
      "[13.07810905 30.90678351 34.69424546 10.90471239 22.03664684 18.58157738\n",
      " 33.44796653 21.62141784 11.52556437 15.54529538 21.05204627 22.41991341\n",
      " 17.49475736 21.73505049 12.87998028 19.41847626 14.06807789 16.121794\n",
      " 20.59696344 31.49423347  0.85990171 28.831842   26.29177626 17.13915897\n",
      " 38.19992305 13.12627594 31.76106251 22.77922592 17.59883097  5.15958386\n",
      " 24.6500784  20.96829766 12.52705111 17.90084002 32.89131909 13.86728949\n",
      " 14.59156499 23.42622676 10.84559264 14.54959604 27.51150742 20.27370718\n",
      " 18.78382956 32.96033613 22.36953436 15.37489109 17.27405098 20.04486225\n",
      " 29.364875   20.09377573 17.48818754 32.55623234 13.85130274 13.14245365\n",
      " 24.80760152 24.57562533 19.0481319  22.13864317 13.2696352  23.43871685\n",
      " 25.19108608 18.33085467 30.3281847  19.06227847 15.28547672 21.02447701\n",
      " 15.69990099 31.26186879 21.16669843 34.14743782 20.40602546 20.77017722\n",
      " 16.60324126 26.76840287 20.73624816 18.45884735 22.20340033 20.4652321\n",
      " 25.04858453]\n",
      "Root mean Squared Error: 5.9923596960920795\n",
      "[22.94625118 24.87378079 13.41042167 20.30865404 33.11267603 27.69688948\n",
      " 28.60655399 27.6648939  20.62611768 19.68392199 20.92666162 21.88543047\n",
      " 38.23073144 11.53491397 33.90448089 31.23916928 18.20373164 13.2795806\n",
      " 21.22402762 21.29417677 19.53964207 11.72669222 20.60201631 34.38996843\n",
      " 26.98305681 26.07203735 22.64564301  8.79681457 25.19088218 20.7162258\n",
      " 16.25435686 20.51293635 20.44973004 23.99117405 13.4070471  29.68544737\n",
      " 18.68082585 21.25615543 21.17066618 17.56112285 32.61674748 15.82657135\n",
      " 23.34392046 31.76325687 34.91452091 18.64596276 38.6394972  32.3690022\n",
      " 22.36239584 13.07306459  1.21614678 14.45013011 13.85620192 26.49949657\n",
      " 22.26959498 20.77554365 12.41339623 14.14178947 24.22588281 17.92936979\n",
      " 19.52470718 16.41557017 28.01523366 35.08355599 22.99812408 23.00314582\n",
      " 14.05096481 36.23007452 23.48021093  3.7277942  25.73177321 30.6718966\n",
      " 33.90285823 14.82997039 26.05339944 31.08476289 21.60517333 17.25880699\n",
      " 10.03376162]\n",
      "Root mean Squared Error: 4.060247147854469\n",
      "[28.23807428  7.12595647  5.55656737 22.44348479 24.55896234 28.45683972\n",
      " 24.95513002 17.24777602 24.05152501 31.3177247  24.96033102 17.71549913\n",
      " 37.54330928 27.1695366  19.9445338   6.37907983 21.3852172  19.1791401\n",
      " 26.7656126  20.96159889 20.0753923  16.6123089  26.70040124 20.73608977\n",
      " 21.81293046 21.16910029 10.58556603 24.98971499 19.89305419 20.27863219\n",
      " 12.74817536 25.28117116 23.77423976 16.50793438 17.91706978 19.93711042\n",
      " 17.81877489 22.85178018 19.9875189  23.09570261 15.56929956 21.32313843\n",
      " 23.81659693 30.93514831 19.99697776 21.82477964 15.07503281 34.13688929\n",
      " 17.39213957 24.22538741 19.17425355 16.65611638 33.32951552 18.76994587\n",
      " 35.89071458 22.55165644 17.78178449 14.39471887 32.62406848 19.97581179\n",
      " 32.74658915 14.21313238 14.35285566 17.97448267 13.33175904 20.90750777\n",
      " 22.32799573 24.27824924 24.78136771  4.45471157 20.8363227  12.53110764\n",
      " 24.70787165  2.95663831 20.26257992 20.95039369 21.63159291 19.04117892\n",
      " 11.34794553]\n",
      "Root mean Squared Error: 5.643500748735431\n"
     ]
    }
   ],
   "source": [
    "for i in range(5):\n",
    "    regression_model(LinearRegression())\n",
    "    "
   ]
  },
  {
   "cell_type": "markdown",
   "metadata": {},
   "source": [
    "## Using the cross_val_scores function to get Accurate Results on the Datasets\n"
   ]
  },
  {
   "cell_type": "code",
   "execution_count": 36,
   "metadata": {},
   "outputs": [
    {
     "ename": "NameError",
     "evalue": "name 'y' is not defined",
     "output_type": "error",
     "traceback": [
      "\u001b[1;31m---------------------------------------------------------------------------\u001b[0m",
      "\u001b[1;31mNameError\u001b[0m                                 Traceback (most recent call last)",
      "\u001b[1;32m<ipython-input-36-f92632b87a8a>\u001b[0m in \u001b[0;36m<module>\u001b[1;34m\u001b[0m\n\u001b[0;32m     12\u001b[0m \u001b[1;33m\u001b[0m\u001b[0m\n\u001b[0;32m     13\u001b[0m \u001b[1;31m#using the regresssion\u001b[0m\u001b[1;33m\u001b[0m\u001b[1;33m\u001b[0m\u001b[1;33m\u001b[0m\u001b[0m\n\u001b[1;32m---> 14\u001b[1;33m \u001b[0mregression_model_cv\u001b[0m\u001b[1;33m(\u001b[0m\u001b[0mLinearRegression\u001b[0m\u001b[1;33m(\u001b[0m\u001b[1;33m)\u001b[0m\u001b[1;33m,\u001b[0m\u001b[1;36m3\u001b[0m\u001b[1;33m)\u001b[0m\u001b[1;33m\u001b[0m\u001b[1;33m\u001b[0m\u001b[0m\n\u001b[0m\u001b[0;32m     15\u001b[0m \u001b[0mprint\u001b[0m\u001b[1;33m(\u001b[0m\u001b[1;34m'-'\u001b[0m\u001b[1;33m*\u001b[0m\u001b[1;36m70\u001b[0m\u001b[1;33m)\u001b[0m\u001b[1;33m\u001b[0m\u001b[1;33m\u001b[0m\u001b[0m\n\u001b[0;32m     16\u001b[0m \u001b[0mregression_model_cv\u001b[0m\u001b[1;33m(\u001b[0m\u001b[0mLinearRegression\u001b[0m\u001b[1;33m(\u001b[0m\u001b[1;33m)\u001b[0m\u001b[1;33m,\u001b[0m\u001b[1;36m5\u001b[0m\u001b[1;33m)\u001b[0m\u001b[1;33m\u001b[0m\u001b[1;33m\u001b[0m\u001b[0m\n",
      "\u001b[1;32m<ipython-input-36-f92632b87a8a>\u001b[0m in \u001b[0;36mregression_model_cv\u001b[1;34m(model, k)\u001b[0m\n\u001b[0;32m      6\u001b[0m \u001b[1;33m\u001b[0m\u001b[0m\n\u001b[0;32m      7\u001b[0m \u001b[1;32mdef\u001b[0m \u001b[0mregression_model_cv\u001b[0m\u001b[1;33m(\u001b[0m\u001b[0mmodel\u001b[0m\u001b[1;33m,\u001b[0m \u001b[0mk\u001b[0m \u001b[1;33m=\u001b[0m \u001b[1;36m5\u001b[0m\u001b[1;33m)\u001b[0m\u001b[1;33m:\u001b[0m\u001b[1;33m\u001b[0m\u001b[1;33m\u001b[0m\u001b[0m\n\u001b[1;32m----> 8\u001b[1;33m     \u001b[0mscores\u001b[0m \u001b[1;33m=\u001b[0m \u001b[0mcross_val_score\u001b[0m\u001b[1;33m(\u001b[0m\u001b[0mmodel\u001b[0m\u001b[1;33m,\u001b[0m\u001b[0mX\u001b[0m\u001b[1;33m,\u001b[0m\u001b[0my\u001b[0m\u001b[1;33m,\u001b[0m\u001b[0mscoring\u001b[0m \u001b[1;33m=\u001b[0m \u001b[1;34m'neg_mean_squared_error'\u001b[0m\u001b[1;33m,\u001b[0m\u001b[0mcv\u001b[0m \u001b[1;33m=\u001b[0m \u001b[0mk\u001b[0m\u001b[1;33m)\u001b[0m\u001b[1;33m\u001b[0m\u001b[1;33m\u001b[0m\u001b[0m\n\u001b[0m\u001b[0;32m      9\u001b[0m     \u001b[0mrmse\u001b[0m \u001b[1;33m=\u001b[0m \u001b[0mnp\u001b[0m\u001b[1;33m.\u001b[0m\u001b[0msqrt\u001b[0m\u001b[1;33m(\u001b[0m\u001b[1;33m-\u001b[0m\u001b[0mscores\u001b[0m\u001b[1;33m)\u001b[0m\u001b[1;33m\u001b[0m\u001b[1;33m\u001b[0m\u001b[0m\n\u001b[0;32m     10\u001b[0m     \u001b[0mprint\u001b[0m\u001b[1;33m(\u001b[0m\u001b[1;34m'Reg rmse:'\u001b[0m \u001b[1;33m,\u001b[0m\u001b[0mrmse\u001b[0m\u001b[1;33m)\u001b[0m\u001b[1;33m\u001b[0m\u001b[1;33m\u001b[0m\u001b[0m\n",
      "\u001b[1;31mNameError\u001b[0m: name 'y' is not defined"
     ]
    }
   ],
   "source": [
    "#importing the cross_val_score from the sklearn\n",
    "from sklearn.model_selection import cross_val_score\n",
    "\n",
    "#defing the regression mode cv functon which takes a fitted model as one parameter\n",
    "#k = 5 hyperparameter gives the number of folds \n",
    "\n",
    "def regression_model_cv(model, k = 5):\n",
    "    scores = cross_val_score(model,X,y,scoring = 'neg_mean_squared_error',cv = k)\n",
    "    rmse = np.sqrt(-scores)\n",
    "    print('Reg rmse:' ,rmse)\n",
    "    print(\"Reg Mean:\",rmse.mean())\n",
    "\n",
    "#using the regresssion\n",
    "regression_model_cv(LinearRegression(),3)\n",
    "print('-'*70)\n",
    "regression_model_cv(LinearRegression(),5)\n",
    "print('-'*70)\n",
    "regression_model_cv(LinearRegression(),6)\n",
    "print('-'*70)"
   ]
  },
  {
   "cell_type": "code",
   "execution_count": 40,
   "metadata": {},
   "outputs": [],
   "source": [
    "def regression_model2(model):\n",
    "        #creating the traing and test sets\n",
    "        x_train,x_test,y_train,y_test = train_test_split(X,Y,test_size = 0.2)\n",
    "        \n",
    "        #create the regressor : reg_all\n",
    "        reg_all = model\n",
    "        #fit the regressor to the training data\n",
    "        reg_all.fit(x_train,y_train)\n",
    "        #Predict on the test data:y_pred\n",
    "        y_pred = reg_all.predict(x_test)\n",
    "#       print(y_pred)\n",
    "        \"\"\"Evaluating the model\"\"\"\n",
    "        y_mean = np.mean(y_test)\n",
    "        h_test = y_pred\n",
    "        k = x_test.shape[0]\n",
    "        n = x_test.shape[1]-1\n",
    "        \n",
    "        SSE = h_test - \n",
    "        \n",
    "        #         #compute and print RMSE\n",
    "#         rmse = np.sqrt(mean_squared_error(y_test,y_pred))\n",
    "#         print(\"Root mean Squared Error: {}\".format(rmse))\n"
   ]
  },
  {
   "cell_type": "code",
   "execution_count": null,
   "metadata": {},
   "outputs": [],
   "source": [
    "\n",
    "    "
   ]
  },
  {
   "cell_type": "code",
   "execution_count": null,
   "metadata": {},
   "outputs": [],
   "source": []
  }
 ],
 "metadata": {
  "kernelspec": {
   "display_name": "Python 3",
   "language": "python",
   "name": "python3"
  },
  "language_info": {
   "codemirror_mode": {
    "name": "ipython",
    "version": 3
   },
   "file_extension": ".py",
   "mimetype": "text/x-python",
   "name": "python",
   "nbconvert_exporter": "python",
   "pygments_lexer": "ipython3",
   "version": "3.7.4"
  }
 },
 "nbformat": 4,
 "nbformat_minor": 2
}
